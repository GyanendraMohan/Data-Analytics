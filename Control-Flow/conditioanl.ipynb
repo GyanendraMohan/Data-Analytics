{
 "cells": [
  {
   "cell_type": "code",
   "execution_count": 6,
   "id": "96d9d5cc",
   "metadata": {},
   "outputs": [
    {
     "name": "stdout",
     "output_type": "stream",
     "text": [
      "43\n",
      "11\n"
     ]
    }
   ],
   "source": [
    "a = 10\n",
    "age = 32\n",
    "if age > a :\n",
    "    a = a + 1\n",
    "    print(a + age)\n",
    "print(a)"
   ]
  },
  {
   "cell_type": "markdown",
   "id": "d9faee60",
   "metadata": {},
   "source": [
    "Conrol flow "
   ]
  },
  {
   "cell_type": "code",
   "execution_count": 12,
   "id": "d05af8d1",
   "metadata": {},
   "outputs": [
    {
     "name": "stdout",
     "output_type": "stream",
     "text": [
      "you are minor\n"
     ]
    }
   ],
   "source": [
    "age = int(input(\"enter age: \"))\n",
    "if age >= 18:\n",
    "    print(\"eligible to vote\")\n",
    "else:\n",
    "    print(\"you are minor\")"
   ]
  },
  {
   "cell_type": "code",
   "execution_count": 15,
   "id": "feceb255",
   "metadata": {},
   "outputs": [
    {
     "name": "stdout",
     "output_type": "stream",
     "text": [
      "child\n"
     ]
    }
   ],
   "source": [
    "age = int(input(\"enter age: \"))\n",
    "\n",
    "if age < 13:\n",
    "    print(\"child\")\n",
    "elif age >= 13 and age < 20:\n",
    "    print(\"teenager\")\n",
    "else:\n",
    "    print(\"adult\")\n",
    "    "
   ]
  },
  {
   "cell_type": "code",
   "execution_count": 17,
   "id": "4fc2a47e",
   "metadata": {},
   "outputs": [
    {
     "name": "stdout",
     "output_type": "stream",
     "text": [
      "positive\n",
      "even\n"
     ]
    }
   ],
   "source": [
    "num = int(input(\"enter number: \"))\n",
    "if num > 0:\n",
    "    print(\"positive\")\n",
    "    if(num % 2 == 0):\n",
    "        print(\"even\")\n",
    "    else:\n",
    "        print(\"odd\")\n",
    "elif num < 0:\n",
    "    print(\"negative\")\n",
    "else:\n",
    "    print(\"zero\")"
   ]
  },
  {
   "cell_type": "code",
   "execution_count": null,
   "id": "cbac1dd3",
   "metadata": {},
   "outputs": [],
   "source": [
    "#leap year\n",
    "year = int(input(\"enter year: \"))\n",
    "if (year % 4 == 0 and year % 100 != 0) or (year % 400 == 0):\n",
    "    print(\"leap year\")\n",
    "else:\n",
    "    print(\"not a leap year\")    "
   ]
  },
  {
   "cell_type": "code",
   "execution_count": 18,
   "id": "ada41e9e",
   "metadata": {},
   "outputs": [
    {
     "name": "stdout",
     "output_type": "stream",
     "text": [
      "Adult Ticket: $10\n"
     ]
    }
   ],
   "source": [
    "age = int(input(\"Enter your age: \"))\n",
    "is_student = input(\"Are you a student (yes/no): \").strip().lower()\n",
    "\n",
    "if age < 10:\n",
    "    print(\"Child Ticket free\")\n",
    "elif 10 <= age < 18:\n",
    "    print(\"Teen Ticket: $5\")\n",
    "elif age >= 65:\n",
    "    print(\"Senior Ticket: $7\")\n",
    "elif is_student == 'yes':\n",
    "    print(\"Student Ticket: $8\")\n",
    "else:\n",
    "    print(\"Adult Ticket: $10\")  \n"
   ]
  },
  {
   "cell_type": "code",
   "execution_count": 20,
   "id": "8d950356",
   "metadata": {},
   "outputs": [
    {
     "name": "stdout",
     "output_type": "stream",
     "text": [
      "0\n",
      "1\n",
      "2\n",
      "3\n",
      "4\n"
     ]
    }
   ],
   "source": [
    "for i in range(5):\n",
    "    print(i)"
   ]
  },
  {
   "cell_type": "code",
   "execution_count": 24,
   "id": "a5cc07af",
   "metadata": {},
   "outputs": [
    {
     "name": "stdout",
     "output_type": "stream",
     "text": [
      "1 odd\n",
      "4 even\n",
      "7 odd\n",
      "10 even\n",
      "13 odd\n",
      "even sum: 14\n",
      "odd sum: 21\n"
     ]
    }
   ],
   "source": [
    "# print numbers from 1 to 15 with a step of 3\n",
    "even_sum = 0\n",
    "odd_sum = 0\n",
    "for i in range(1,15,3):\n",
    "    if(i%2==0):\n",
    "        print(i,\"even\")\n",
    "        even_sum = even_sum + i\n",
    "    else:\n",
    "        print(i,\"odd\")\n",
    "        odd_sum = odd_sum + i \n",
    "        \n",
    "print(\"even sum:\",even_sum)\n",
    "print(\"odd sum:\",odd_sum)   "
   ]
  },
  {
   "cell_type": "code",
   "execution_count": null,
   "id": "678a1c72",
   "metadata": {},
   "outputs": [
    {
     "name": "stdout",
     "output_type": "stream",
     "text": [
      "G\n",
      "y\n",
      "a\n",
      "n\n",
      "e\n",
      "n\n",
      "d\n",
      "r\n",
      "a\n",
      " \n",
      "M\n",
      "o\n",
      "h\n",
      "a\n",
      "n\n",
      " \n",
      "P\n",
      "a\n",
      "t\n",
      "e\n",
      "l\n"
     ]
    }
   ],
   "source": [
    "#strings -> colection of characters\n",
    "str = \"Gyanendra Mohan Patel\"\n",
    "for char in str:\n",
    "    print(char)"
   ]
  },
  {
   "cell_type": "code",
   "execution_count": 27,
   "id": "96e1cbca",
   "metadata": {},
   "outputs": [
    {
     "name": "stdout",
     "output_type": "stream",
     "text": [
      "count: 0\n",
      "count: 1\n",
      "count: 2\n",
      "count: 3\n",
      "count: 4\n"
     ]
    }
   ],
   "source": [
    "count = 0\n",
    "while count < 5:\n",
    "    print(\"count:\", count)\n",
    "    count += 1"
   ]
  },
  {
   "cell_type": "code",
   "execution_count": 1,
   "id": "a12b8b4e",
   "metadata": {},
   "outputs": [
    {
     "name": "stdout",
     "output_type": "stream",
     "text": [
      "0\n",
      "1\n",
      "2\n",
      "3\n",
      "4\n",
      "inside if :  6\n"
     ]
    }
   ],
   "source": [
    "#root control statements\n",
    "for i in range(10):\n",
    "    if i == 5:\n",
    "        i = i+1\n",
    "        print(\"inside if : \",i)\n",
    "        break\n",
    "    print(i)"
   ]
  },
  {
   "cell_type": "markdown",
   "id": "ea7592c7",
   "metadata": {},
   "source": [
    "Pass statement\n",
    "pass statement is used when a statement is required syntactically but you do not want any command or code to execute. basically it is a null operation, it does nothing when executed.\n"
   ]
  },
  {
   "cell_type": "code",
   "execution_count": 4,
   "id": "711a14b5",
   "metadata": {},
   "outputs": [
    {
     "name": "stdout",
     "output_type": "stream",
     "text": [
      "sum of N natural numbers: 55\n"
     ]
    }
   ],
   "source": [
    "natural_sum_N = 0\n",
    "N = int(input(\"enter N: \"))\n",
    "while N > 0:\n",
    "    natural_sum_N = natural_sum_N + N\n",
    "    N = N - 1\n",
    "print(\"sum of N natural numbers:\", natural_sum_N)"
   ]
  },
  {
   "cell_type": "code",
   "execution_count": 5,
   "id": "8691a601",
   "metadata": {},
   "outputs": [
    {
     "name": "stdout",
     "output_type": "stream",
     "text": [
      "sum of N natural numbers using for loop: 55\n"
     ]
    }
   ],
   "source": [
    "natural_sum_N_for = 0\n",
    "N = int(input(\"enter N: \"))\n",
    "for i in range(1, N+1):\n",
    "    natural_sum_N_for = natural_sum_N_for + i\n",
    "print(\"sum of N natural numbers using for loop:\", natural_sum_N_for)\n"
   ]
  },
  {
   "cell_type": "markdown",
   "id": "3c698902",
   "metadata": {},
   "source": [
    "Prime number between 1 and 100"
   ]
  },
  {
   "cell_type": "code",
   "execution_count": 6,
   "id": "d5e53d13",
   "metadata": {},
   "outputs": [
    {
     "name": "stdout",
     "output_type": "stream",
     "text": [
      "2\n",
      "3\n",
      "5\n",
      "7\n",
      "11\n",
      "13\n",
      "17\n",
      "19\n",
      "23\n",
      "29\n",
      "31\n",
      "37\n",
      "41\n",
      "43\n",
      "47\n",
      "53\n",
      "59\n",
      "61\n",
      "67\n",
      "71\n",
      "73\n",
      "79\n",
      "83\n",
      "89\n",
      "97\n"
     ]
    }
   ],
   "source": [
    "for num in range(1, 101):\n",
    "    if num > 1:\n",
    "        for i in range(2, int(num**0.5) + 1):\n",
    "            if (num % i) == 0:\n",
    "                break\n",
    "        else:\n",
    "            print(num)  "
   ]
  }
 ],
 "metadata": {
  "kernelspec": {
   "display_name": "Python 3",
   "language": "python",
   "name": "python3"
  },
  "language_info": {
   "codemirror_mode": {
    "name": "ipython",
    "version": 3
   },
   "file_extension": ".py",
   "mimetype": "text/x-python",
   "name": "python",
   "nbconvert_exporter": "python",
   "pygments_lexer": "ipython3",
   "version": "3.13.0"
  }
 },
 "nbformat": 4,
 "nbformat_minor": 5
}
