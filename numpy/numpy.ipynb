{
 "cells": [
  {
   "cell_type": "markdown",
   "id": "d183d9f0",
   "metadata": {},
   "source": [
    "# Numpy\n",
    "\n",
    "Provided the support for arrays and matrices."
   ]
  },
  {
   "cell_type": "code",
   "execution_count": 2,
   "id": "cb8fccf4",
   "metadata": {},
   "outputs": [
    {
     "name": "stdout",
     "output_type": "stream",
     "text": [
      "Requirement already satisfied: numpy in /Users/gyanendramohanpatel/Desktop/Data Analytics/venv/lib/python3.13/site-packages (2.3.2)\n"
     ]
    }
   ],
   "source": [
    "!pip install numpy"
   ]
  },
  {
   "cell_type": "code",
   "execution_count": null,
   "id": "bdf5069d",
   "metadata": {},
   "outputs": [
    {
     "name": "stdout",
     "output_type": "stream",
     "text": [
      "[1 2 3 4 5]\n",
      "<class 'numpy.ndarray'>\n",
      "(5,)\n"
     ]
    }
   ],
   "source": [
    "import numpy as np\n",
    "\n",
    "#create a array\n",
    "\n",
    "arr1 = np.array([1,2,3,4,5]) # 1-D array\n",
    "print(arr1)\n",
    "print(type(arr1))\n",
    "print(arr1.shape)\n"
   ]
  },
  {
   "cell_type": "code",
   "execution_count": 8,
   "id": "c7229314",
   "metadata": {},
   "outputs": [
    {
     "name": "stdout",
     "output_type": "stream",
     "text": [
      "(1, 4)\n"
     ]
    }
   ],
   "source": [
    "arr2 = np.array([1,2,3,4])\n",
    "res_arr2 = arr2.reshape(1,4) # 1 row and 5 collumns\n",
    "print(res_arr2.shape)"
   ]
  },
  {
   "cell_type": "code",
   "execution_count": 12,
   "id": "c8d5511b",
   "metadata": {},
   "outputs": [
    {
     "data": {
      "text/plain": [
       "array([[0, 2, 4, 6, 8]])"
      ]
     },
     "execution_count": 12,
     "metadata": {},
     "output_type": "execute_result"
    }
   ],
   "source": [
    "np.arange(0,10,2).reshape(1,5)"
   ]
  },
  {
   "cell_type": "code",
   "execution_count": 14,
   "id": "d4c55d5e",
   "metadata": {},
   "outputs": [
    {
     "data": {
      "text/plain": [
       "array([[1., 1., 1., 1.],\n",
       "       [1., 1., 1., 1.],\n",
       "       [1., 1., 1., 1.]])"
      ]
     },
     "execution_count": 14,
     "metadata": {},
     "output_type": "execute_result"
    }
   ],
   "source": [
    "# ones(x,y) -> create array with x row and y columns\n",
    "\n",
    "np.ones((3,4))"
   ]
  },
  {
   "cell_type": "code",
   "execution_count": null,
   "id": "1bff0d48",
   "metadata": {},
   "outputs": [
    {
     "data": {
      "text/plain": [
       "array([[1., 0., 0.],\n",
       "       [0., 1., 0.],\n",
       "       [0., 0., 1.]])"
      ]
     },
     "execution_count": 15,
     "metadata": {},
     "output_type": "execute_result"
    }
   ],
   "source": [
    "# to create identity mattrix\n",
    "\n",
    "np.eye((3)) # create an identity mattrix of order 3x3"
   ]
  },
  {
   "cell_type": "code",
   "execution_count": 17,
   "id": "b601ab1c",
   "metadata": {},
   "outputs": [
    {
     "name": "stdout",
     "output_type": "stream",
     "text": [
      "Addition :  [11 22 33 44 55]\n",
      "Substraction :  [ 9 18 27 36 45]\n"
     ]
    }
   ],
   "source": [
    "## Numpy vectorized operation\n",
    "\n",
    "arr1 = np.array([1,2,3,4,5])\n",
    "arr2 = np.array([10,20,30,40,50])\n",
    "\n",
    "# Element wise addition\n",
    "\n",
    "print(\"Addition : \", arr1+arr2)\n",
    "\n",
    "# element wise substraction\n",
    "\n",
    "print(\"Substraction : \", arr2 - arr1)"
   ]
  },
  {
   "cell_type": "code",
   "execution_count": 22,
   "id": "2c54f2dd",
   "metadata": {},
   "outputs": [
    {
     "name": "stdout",
     "output_type": "stream",
     "text": [
      "[1.41421356 1.73205081 2.         2.23606798 2.44948974]\n",
      "[0.69314718 1.09861229 1.38629436 1.60943791 1.79175947]\n",
      "expo [  7.3890561   20.08553692  54.59815003 148.4131591  403.42879349]\n"
     ]
    }
   ],
   "source": [
    "# Universal function\n",
    "\n",
    "arr = np.array([2,3,4,5,6])\n",
    "print(np.sqrt(arr))\n",
    "print(np.log(arr))\n",
    "print(\"expo\",np.exp(arr))"
   ]
  },
  {
   "cell_type": "code",
   "execution_count": null,
   "id": "3b1eb99b",
   "metadata": {},
   "outputs": [
    {
     "name": "stdout",
     "output_type": "stream",
     "text": [
      "Array : \n",
      " [[ 1  2  3  4]\n",
      " [ 5  6  7  8]\n",
      " [ 9 10 11 12]]\n"
     ]
    },
    {
     "data": {
      "text/plain": [
       "np.int64(2)"
      ]
     },
     "execution_count": 27,
     "metadata": {},
     "output_type": "execute_result"
    }
   ],
   "source": [
    "# Array slicing and indexing\n",
    "\n",
    "arr = np.array([[1,2,3,4],[5,6,7,8],[9,10,11,12]])\n",
    "print(\"Array : \\n\",arr)\n",
    "arr[0][1]\n"
   ]
  },
  {
   "cell_type": "code",
   "execution_count": 41,
   "id": "3c4dfeee",
   "metadata": {},
   "outputs": [
    {
     "name": "stdout",
     "output_type": "stream",
     "text": [
      "[[ 7  8]\n",
      " [11 12]]\n",
      "hi [[3 4]\n",
      " [7 8]]\n",
      "[[ 6  7]\n",
      " [10 11]]\n"
     ]
    }
   ],
   "source": [
    "# Fix: Use only two indices for 2D array slicing\n",
    "print(arr[1:, 2:])\n",
    "print(\"hi\",arr[0:2, 2:])\n",
    "print(arr[1: , 1:3])"
   ]
  },
  {
   "cell_type": "code",
   "execution_count": 42,
   "id": "00d8b757",
   "metadata": {},
   "outputs": [
    {
     "name": "stdout",
     "output_type": "stream",
     "text": [
      "[[100   2   3   4]\n",
      " [  5   6   7   8]\n",
      " [  9  10  11  12]]\n"
     ]
    }
   ],
   "source": [
    "# Modify array elements \n",
    "arr[0,0] = 100\n",
    "print(arr)"
   ]
  },
  {
   "cell_type": "code",
   "execution_count": 45,
   "id": "281efba9",
   "metadata": {},
   "outputs": [
    {
     "name": "stdout",
     "output_type": "stream",
     "text": [
      "[[100   2   3   4]\n",
      " [100 100 100 100]\n",
      " [100 100 100 100]]\n",
      "(3, 4)\n"
     ]
    }
   ],
   "source": [
    "arr[1:] = 100\n",
    "print(arr)\n",
    "print(arr.shape)"
   ]
  },
  {
   "cell_type": "code",
   "execution_count": 46,
   "id": "0300cf76",
   "metadata": {},
   "outputs": [
    {
     "name": "stdout",
     "output_type": "stream",
     "text": [
      "Normalized data :  [-1.41421356 -0.70710678  0.          0.70710678  1.41421356]\n"
     ]
    }
   ],
   "source": [
    "# Statistical concepts - Normalization\n",
    "# to have mean of 0 and SD of 1\n",
    "\n",
    "data = np.array([1,2,3,4,5])\n",
    "\n",
    "mean = np.mean(data)\n",
    "std_dev = np.std(data)\n",
    "\n",
    "normalized_data = (data - mean) / std_dev\n",
    "print(\"Normalized data : \", normalized_data)"
   ]
  },
  {
   "cell_type": "code",
   "execution_count": 51,
   "id": "f175960f",
   "metadata": {},
   "outputs": [
    {
     "name": "stdout",
     "output_type": "stream",
     "text": [
      "mean 4.5\n",
      "median 4.5\n",
      "variance 5.25\n",
      "std dev 2.29128784747792\n",
      "mode 4.5\n"
     ]
    }
   ],
   "source": [
    "# calculate mean median mode variance\n",
    "\n",
    "data1 = np.array([1,2,3,4,5,6,7,8])\n",
    "mean = np.mean(data1)\n",
    "median = np.median(data1)\n",
    "variance = np.var(data1)\n",
    "std_dev = np.std(data1)\n",
    "print(\"mean\", mean)\n",
    "print(\"median\", median)\n",
    "print(\"variance\", variance)\n",
    "print(\"std dev\", std_dev)\n",
    "mode = 3*median - 2*mean\n",
    "print(\"mode\",mode)"
   ]
  },
  {
   "cell_type": "code",
   "execution_count": null,
   "id": "7914e8d7",
   "metadata": {},
   "outputs": [
    {
     "data": {
      "text/plain": [
       "array([6, 7, 8])"
      ]
     },
     "execution_count": 57,
     "metadata": {},
     "output_type": "execute_result"
    }
   ],
   "source": [
    "# Logical operations \n",
    "data = np.array([1,2,3,4,5,6,7,8,9])\n",
    "data > 5\n",
    "data[(data > 5) & (data <= 8)]  # applying indexing here"
   ]
  }
 ],
 "metadata": {
  "kernelspec": {
   "display_name": "Python 3",
   "language": "python",
   "name": "python3"
  },
  "language_info": {
   "codemirror_mode": {
    "name": "ipython",
    "version": 3
   },
   "file_extension": ".py",
   "mimetype": "text/x-python",
   "name": "python",
   "nbconvert_exporter": "python",
   "pygments_lexer": "ipython3",
   "version": "3.13.0"
  }
 },
 "nbformat": 4,
 "nbformat_minor": 5
}
