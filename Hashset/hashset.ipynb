{
 "cells": [
  {
   "cell_type": "code",
   "execution_count": null,
   "id": "5ccb1e81",
   "metadata": {},
   "outputs": [],
   "source": [
    "class ListNode:\n",
    "    def __init__(self, key):\n",
    "        self.key = key\n",
    "        self.next = None\n",
    "\n",
    "class MyHashSet:\n",
    "    def __init__(self):\n",
    "        self.set = [ListNode(0) for _ in range(10**4)]\n",
    "    \n",
    "    def add(self, key: int) -> None:\n",
    "        current = self.set[key % len(self.set)]\n",
    "        while current.next:\n",
    "            if current.next.key == key:  # check for duplicacy\n",
    "                return\n",
    "            current = current.next\n",
    "        current.next = ListNode(key)\n",
    "        \n",
    "    def remove(self, key: int) -> None:\n",
    "        current = self.set[key % len(self.set)]\n",
    "        while current.next:\n",
    "            if current.next.key == key:\n",
    "                current.next = current.next.next\n",
    "                return\n",
    "            current = current.next\n",
    "            \n",
    "    def contains(self, key: int) -> bool:\n",
    "        current = self.set[key % len(self.set)]\n",
    "        while current.next:\n",
    "            if current.next.key == key:\n",
    "                return True\n",
    "            current = current.next\n",
    "        return False"
   ]
  }
 ],
 "metadata": {
  "kernelspec": {
   "display_name": "Python 3",
   "language": "python",
   "name": "python3"
  },
  "language_info": {
   "name": "python",
   "version": "3.13.0"
  }
 },
 "nbformat": 4,
 "nbformat_minor": 5
}
