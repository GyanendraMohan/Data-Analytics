{
 "cells": [
  {
   "cell_type": "code",
   "execution_count": 2,
   "id": "4dee1d4f",
   "metadata": {},
   "outputs": [
    {
     "name": "stdout",
     "output_type": "stream",
     "text": [
      "<class '__main__.car'>\n",
      "<__main__.car object at 0x10753d2b0>\n"
     ]
    }
   ],
   "source": [
    "class car:\n",
    "    pass\n",
    "\n",
    "tata = car()\n",
    "punch = car()\n",
    "\n",
    "print(type(tata))\n",
    "print(tata)"
   ]
  },
  {
   "cell_type": "code",
   "execution_count": null,
   "id": "66fd1b01",
   "metadata": {},
   "outputs": [
    {
     "name": "stdout",
     "output_type": "stream",
     "text": [
      "juli 2\n"
     ]
    }
   ],
   "source": [
    "class Dog:\n",
    "    ## constructor\n",
    "    def __init__(self,name, age): # init is constructor\n",
    "        self.name = name\n",
    "        self.age = age\n",
    "\n",
    "dog1 = Dog(\"juli\", 2)\n",
    "print(dog1.name, dog1.age)"
   ]
  },
  {
   "cell_type": "code",
   "execution_count": 4,
   "id": "0e3d0837",
   "metadata": {},
   "outputs": [
    {
     "name": "stdout",
     "output_type": "stream",
     "text": [
      "Julie says abcd\n"
     ]
    }
   ],
   "source": [
    "## class with insatance methods\n",
    "\n",
    "class Dog:\n",
    "    def __init__(self, name, age):\n",
    "        self.name = name\n",
    "        self.age = age\n",
    "        \n",
    "    def bark(self):\n",
    "        print(f'{self.name} says abcd')\n",
    "        \n",
    "new_dog = Dog(\"Julie\",1)\n",
    "new_dog.bark()\n"
   ]
  },
  {
   "cell_type": "code",
   "execution_count": 12,
   "id": "3012f30e",
   "metadata": {},
   "outputs": [
    {
     "name": "stdout",
     "output_type": "stream",
     "text": [
      "5000\n"
     ]
    }
   ],
   "source": [
    "# Modelling a bank account \n",
    "\n",
    "class Bank:\n",
    "    def __init__(self, owner , ballance = 0):\n",
    "        self.owner = owner\n",
    "        self.ballance = ballance\n",
    "        \n",
    "    def deposit(self, amount):\n",
    "        self.ballance += amount\n",
    "        print(f'{amount} is deposited. New Ballance is {self.ballance}')\n",
    "    \n",
    "    def withdraw(self, amount):\n",
    "        if amount > self.ballance:\n",
    "            print('insufficient fund')\n",
    "        else:\n",
    "            self.ballance -= amount\n",
    "            print(f'{amount} is withdrawn. New Ballance is {self.ballance}')\n",
    "    \n",
    "    def get_ballance(self):\n",
    "        return self.ballance\n",
    "            \n",
    "account = Bank(\"Gyan\", 5000)\n",
    "print(account.ballance)\n"
   ]
  },
  {
   "cell_type": "code",
   "execution_count": 13,
   "id": "9ae5cdcf",
   "metadata": {},
   "outputs": [
    {
     "name": "stdout",
     "output_type": "stream",
     "text": [
      "200 is deposited. New Ballance is 5200\n"
     ]
    }
   ],
   "source": [
    "account.deposit(200)\n"
   ]
  },
  {
   "cell_type": "code",
   "execution_count": 14,
   "id": "053ffffc",
   "metadata": {},
   "outputs": [
    {
     "name": "stdout",
     "output_type": "stream",
     "text": [
      "2000 is withdrawn. New Ballance is 3200\n",
      "3200\n"
     ]
    }
   ],
   "source": [
    "account.withdraw(2000)\n",
    "print(account.get_ballance())\n"
   ]
  }
 ],
 "metadata": {
  "kernelspec": {
   "display_name": "Python 3",
   "language": "python",
   "name": "python3"
  },
  "language_info": {
   "codemirror_mode": {
    "name": "ipython",
    "version": 3
   },
   "file_extension": ".py",
   "mimetype": "text/x-python",
   "name": "python",
   "nbconvert_exporter": "python",
   "pygments_lexer": "ipython3",
   "version": "3.13.0"
  }
 },
 "nbformat": 4,
 "nbformat_minor": 5
}
