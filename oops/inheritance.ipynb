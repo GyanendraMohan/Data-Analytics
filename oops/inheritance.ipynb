{
 "cells": [
  {
   "cell_type": "markdown",
   "id": "dcb72342",
   "metadata": {},
   "source": [
    "# Inheritance \n",
    "\n",
    "Allow a clsss to inherit the attributes and methods from another class.\n"
   ]
  },
  {
   "cell_type": "code",
   "execution_count": 1,
   "id": "83789d9c",
   "metadata": {},
   "outputs": [],
   "source": [
    "class Car:\n",
    "    '''self in a constructor (the __init__ method) is a conventional name for the first parameter that refers to the instance of the class being created.'''\n",
    "    def __init__(self, window, door, engine_type):\n",
    "        self.window = window\n",
    "        self.door = door\n",
    "        self.engine_type = engine_type\n",
    "    def drive(self):\n",
    "        print(f'The person drives the {self.engine_type} car')\n",
    "        \n",
    "        "
   ]
  },
  {
   "cell_type": "code",
   "execution_count": 5,
   "id": "5c51ad6a",
   "metadata": {},
   "outputs": [
    {
     "name": "stdout",
     "output_type": "stream",
     "text": [
      "The person drives the Diesel car\n",
      "The person drives the Hilux car\n"
     ]
    }
   ],
   "source": [
    "car1 = Car(4,5, \"Diesel\")\n",
    "car1.drive()\n",
    "car2 = Car(4,6 , \"Hilux\")\n",
    "car2.drive()"
   ]
  },
  {
   "cell_type": "code",
   "execution_count": 17,
   "id": "23dcac73",
   "metadata": {},
   "outputs": [],
   "source": [
    "class Tesla(Car):\n",
    "    def __init__(self,window, door, engine_type,is_self_driving):\n",
    "        super().__init__(window, door, engine_type) # inheriting from parent class Car\n",
    "        self.is_self_driving = is_self_driving\n",
    "            \n",
    "    def self_driving(self):\n",
    "        print(f'Tesla Supports self driving? : {self.is_self_driving}')\n"
   ]
  },
  {
   "cell_type": "code",
   "execution_count": 19,
   "id": "b7d2c956",
   "metadata": {},
   "outputs": [
    {
     "name": "stdout",
     "output_type": "stream",
     "text": [
      "Tesla Supports self driving? : True\n",
      "The person drives the Electric car\n"
     ]
    }
   ],
   "source": [
    "tesla1 = Tesla(4,5,\"Electric\", True)\n",
    "tesla1.self_driving()\n",
    "tesla1.drive()\n"
   ]
  },
  {
   "cell_type": "code",
   "execution_count": null,
   "id": "d6cbac9f",
   "metadata": {},
   "outputs": [],
   "source": [
    "#Multiple inheritance\n",
    "\n",
    "#Base class 1\n",
    "class Animal:\n",
    "    def __init__(self, name):\n",
    "        self.name = name\n",
    "    def speak(self):\n",
    "        print(\"Subclass must implements this method\")\n",
    "        \n",
    "#Base clas 2\n",
    "\n",
    "class Pet:\n",
    "    def __init__(self, owner):\n",
    "        self.owner = owner\n",
    "    \n",
    "#derrived class\n",
    "\n",
    "class Dog(Animal, Pet):\n",
    "    def __init__(self, name):\n",
    "        super().__init__(name)\n",
    "    \n",
    "    "
   ]
  }
 ],
 "metadata": {
  "kernelspec": {
   "display_name": "Python 3",
   "language": "python",
   "name": "python3"
  },
  "language_info": {
   "codemirror_mode": {
    "name": "ipython",
    "version": 3
   },
   "file_extension": ".py",
   "mimetype": "text/x-python",
   "name": "python",
   "nbconvert_exporter": "python",
   "pygments_lexer": "ipython3",
   "version": "3.13.0"
  }
 },
 "nbformat": 4,
 "nbformat_minor": 5
}
