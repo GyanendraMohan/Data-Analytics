{
 "cells": [
  {
   "cell_type": "code",
   "execution_count": 12,
   "id": "3804d33e",
   "metadata": {},
   "outputs": [
    {
     "name": "stdout",
     "output_type": "stream",
     "text": [
      "Hello world!\n",
      "this is a new lineAdded new content in file using append modefirst line\n",
      "second line\n",
      "third line\n"
     ]
    }
   ],
   "source": [
    "# read a whole file\n",
    "\n",
    "with open('example.txt', 'r') as file:\n",
    "    content = file.read()\n",
    "    print(content)"
   ]
  },
  {
   "cell_type": "code",
   "execution_count": 7,
   "id": "18241c10",
   "metadata": {},
   "outputs": [
    {
     "name": "stdout",
     "output_type": "stream",
     "text": [
      "Hello world!\n",
      "this is a new lineAdded new content in file using append mode\n"
     ]
    }
   ],
   "source": [
    "# read line by line\n",
    "\n",
    "with open('example.txt', 'r') as file:\n",
    "    for line in file:\n",
    "        print(line.strip()) #strip() removes the new line character"
   ]
  },
  {
   "cell_type": "code",
   "execution_count": null,
   "id": "28f23b39",
   "metadata": {},
   "outputs": [],
   "source": [
    "# open file to write\n",
    "\n",
    "with open('example.txt', 'w') as file:\n",
    "    file.write('Hello world!\\n') # this method overwrite the text that present earlier\n",
    "    file.write('this is a new line')\n",
    "    "
   ]
  },
  {
   "cell_type": "code",
   "execution_count": null,
   "id": "68669856",
   "metadata": {},
   "outputs": [],
   "source": [
    "# to overcome the overwritten problem\n",
    "\n",
    "with open('example.txt', 'a') as file:  #append mode\n",
    "    file.write('Added new content in file using append mode')"
   ]
  },
  {
   "cell_type": "code",
   "execution_count": 11,
   "id": "57dd8b75",
   "metadata": {},
   "outputs": [],
   "source": [
    "## writing list of lines to a file\n",
    "\n",
    "lines = [\n",
    "    'first line\\n',\n",
    "    'second line\\n',\n",
    "    'third line'\n",
    "]\n",
    "\n",
    "with open('example.txt', 'a') as file:\n",
    "    file.writelines(lines)"
   ]
  },
  {
   "cell_type": "code",
   "execution_count": 16,
   "id": "53d0d7be",
   "metadata": {},
   "outputs": [
    {
     "name": "stdout",
     "output_type": "stream",
     "text": [
      "Hello man\n",
      "how are you\n",
      "\n"
     ]
    }
   ],
   "source": [
    "# read and write both togather\n",
    "\n",
    "with open('example.txt', 'w+') as file:\n",
    "    file.write(\"Hello man\\n\")\n",
    "    file.write(\"how are you\\n\")\n",
    "    \n",
    "    file.seek(0) # move the pointer to the initial position\n",
    "    \n",
    "    ## read the written file\n",
    "    \n",
    "    content = file.read()\n",
    "    print(content)"
   ]
  },
  {
   "cell_type": "code",
   "execution_count": 14,
   "id": "dfa6723e",
   "metadata": {},
   "outputs": [
    {
     "name": "stdout",
     "output_type": "stream",
     "text": [
      "b'\\x00\\x01\\x02'\n"
     ]
    }
   ],
   "source": [
    "# working with the binary files\n",
    "data = b'\\x00\\x01\\x02'\n",
    "with open('example.bin', 'wb') as file:\n",
    "    file.write(data)\n",
    "    \n",
    "# reading the binary file\n",
    "\n",
    "with open('example.bin', 'rb') as file:\n",
    "    content = file.read()\n",
    "    print(content)"
   ]
  },
  {
   "cell_type": "code",
   "execution_count": 17,
   "id": "d9c8fbfb",
   "metadata": {},
   "outputs": [
    {
     "name": "stdout",
     "output_type": "stream",
     "text": [
      "Diirectory 'package' is created\n"
     ]
    }
   ],
   "source": [
    "# create a new directory\n",
    "import os\n",
    "new_direc = \"package\"\n",
    "os.mkdir(new_direc)\n",
    "print(f\"Diirectory '{new_direc}' is created\")"
   ]
  }
 ],
 "metadata": {
  "kernelspec": {
   "display_name": "Python 3",
   "language": "python",
   "name": "python3"
  },
  "language_info": {
   "codemirror_mode": {
    "name": "ipython",
    "version": 3
   },
   "file_extension": ".py",
   "mimetype": "text/x-python",
   "name": "python",
   "nbconvert_exporter": "python",
   "pygments_lexer": "ipython3",
   "version": "3.13.0"
  }
 },
 "nbformat": 4,
 "nbformat_minor": 5
}
