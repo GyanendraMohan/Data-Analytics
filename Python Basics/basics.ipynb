{
 "cells": [
  {
   "cell_type": "markdown",
   "id": "5fe289a6",
   "metadata": {},
   "source": [
    "Basic syntax rules in python\n",
    "-> python is case sensitive\n",
    "Indentation --> define the structure and hierarchy of the code, also determine the grouping of the statements."
   ]
  },
  {
   "cell_type": "code",
   "execution_count": 2,
   "id": "02160676",
   "metadata": {},
   "outputs": [
    {
     "name": "stdout",
     "output_type": "stream",
     "text": [
      "30\n"
     ]
    }
   ],
   "source": [
    "age = 32;\n",
    "if age > 30:\n",
    "    print(30);\n",
    "\n"
   ]
  },
  {
   "cell_type": "markdown",
   "id": "5c71088a",
   "metadata": {},
   "source": [
    "Variables\n",
    "Declaration and assignment"
   ]
  },
  {
   "cell_type": "code",
   "execution_count": 4,
   "id": "8b284021",
   "metadata": {},
   "outputs": [
    {
     "name": "stdout",
     "output_type": "stream",
     "text": [
      "10 <class 'int'>\n",
      "hello <class 'str'>\n"
     ]
    }
   ],
   "source": [
    "#dynamic type casting\n",
    "\n",
    "var = 10\n",
    "print(var,type(var))\n",
    "\n",
    "var = \"hello\"\n",
    "print(var, type(var))"
   ]
  },
  {
   "cell_type": "code",
   "execution_count": 5,
   "id": "40a63fbd",
   "metadata": {},
   "outputs": [
    {
     "name": "stdout",
     "output_type": "stream",
     "text": [
      "20\n",
      "<class 'str'>\n"
     ]
    }
   ],
   "source": [
    "#input\n",
    "age = input(\"enter age\")\n",
    "print(age)\n",
    "print(type(age))"
   ]
  },
  {
   "cell_type": "code",
   "execution_count": 6,
   "id": "565987da",
   "metadata": {},
   "outputs": [
    {
     "name": "stdout",
     "output_type": "stream",
     "text": [
      "Sum: 15.0\n",
      "Difference: 5.0\n",
      "Product: 50.0\n",
      "Quotient: 2.0\n"
     ]
    }
   ],
   "source": [
    "#simple calculator\n",
    "num1 = float(input(\"Enter the first number\"))\n",
    "num2 = float(input(\"Enter the second number\"))\n",
    "\n",
    "sum = num1+num2\n",
    "diff = num1-num2\n",
    "prod = num1*num2\n",
    "quot = num1/num2\n",
    "print(\"Sum:\", sum)\n",
    "print(\"Difference:\", diff)\n",
    "print(\"Product:\", prod)\n",
    "print(\"Quotient:\", quot)    "
   ]
  },
  {
   "cell_type": "markdown",
   "id": "89e55329",
   "metadata": {},
   "source": [
    "\n",
    "Data Types\n",
    "1. Integer\n",
    "2. Float\n",
    "3. String\n",
    "4. Boolean\n",
    "\n",
    "Advanced\n",
    "\n",
    "1. List\n",
    "2. Tupple\n",
    "3. Sets\n",
    "4. Dictionaries\n",
    "\n"
   ]
  },
  {
   "cell_type": "code",
   "execution_count": null,
   "id": "12e97813",
   "metadata": {},
   "outputs": [
    {
     "name": "stdout",
     "output_type": "stream",
     "text": [
      "11.4\n"
     ]
    }
   ],
   "source": [
    "height = 11.4\n",
    "print(height)"
   ]
  }
 ],
 "metadata": {
  "kernelspec": {
   "display_name": "Python 3",
   "language": "python",
   "name": "python3"
  },
  "language_info": {
   "codemirror_mode": {
    "name": "ipython",
    "version": 3
   },
   "file_extension": ".py",
   "mimetype": "text/x-python",
   "name": "python",
   "nbconvert_exporter": "python",
   "pygments_lexer": "ipython3",
   "version": "3.13.0"
  }
 },
 "nbformat": 4,
 "nbformat_minor": 5
}
