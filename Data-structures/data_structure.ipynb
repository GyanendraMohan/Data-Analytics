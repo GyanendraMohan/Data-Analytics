{
 "cells": [
  {
   "cell_type": "markdown",
   "id": "47a406b0",
   "metadata": {},
   "source": [
    "# List\n",
    "Lists are ordered mutable(changable) collection of data items. can contain items of diff data types."
   ]
  },
  {
   "cell_type": "code",
   "execution_count": 1,
   "id": "98491202",
   "metadata": {},
   "outputs": [
    {
     "name": "stdout",
     "output_type": "stream",
     "text": [
      "<class 'list'>\n"
     ]
    }
   ],
   "source": [
    "lst = []\n",
    "print(type(lst))"
   ]
  },
  {
   "cell_type": "code",
   "execution_count": 3,
   "id": "14368e4e",
   "metadata": {},
   "outputs": [
    {
     "name": "stdout",
     "output_type": "stream",
     "text": [
      "alice\n"
     ]
    }
   ],
   "source": [
    "name = [\"alice\", \"bob\", \"charlie\"]\n",
    "print(name[0])"
   ]
  },
  {
   "cell_type": "code",
   "execution_count": 51,
   "id": "5812bea6",
   "metadata": {},
   "outputs": [
    {
     "name": "stdout",
     "output_type": "stream",
     "text": [
      "apple\n",
      "cherry\n",
      "['grape', 'fig', 'elderberry', 'date', 'cherry', 'banana', 'apple']\n",
      "grape\n",
      "['banana', 'cherry', 'date']\n",
      "[]\n",
      "1\n",
      "['grape', 'fig', 'elderberry', 'date', 'cherry', 'banana']\n"
     ]
    }
   ],
   "source": [
    "fruits = [\"apple\", \"banana\", \"cherry\", \"date\", \"elderberry\", \"fig\", \"grape\"]\n",
    "print(fruits[0])\n",
    "print(fruits[2])\n",
    "print(fruits[::-1])\n",
    "print(fruits[-1])\n",
    "print(fruits[1:4])\n",
    "print(fruits[-1:-3])\n",
    "print(fruits.count(\"banana\"))\n",
    "print(fruits[-1:0:-1])"
   ]
  },
  {
   "cell_type": "markdown",
   "id": "e4654645",
   "metadata": {},
   "source": [
    "# Modifying the list elements"
   ]
  },
  {
   "cell_type": "code",
   "execution_count": null,
   "id": "7f90f3f2",
   "metadata": {},
   "outputs": [
    {
     "name": "stdout",
     "output_type": "stream",
     "text": [
      "['honeydew', 'baigan', 'honeydew', 'honeydew', 'honeydew', 'honeydew', 'honeydew', 'honeydew', 'honeydew', 'honeydew', 'grape', 'fig', 'elderberry', 'date', 'cherry', 'banana']\n",
      "['honeydew', 'baigan', 'honeydew', 'honeydew', 'honeydew', 'honeydew', 'honeydew', 'honeydew', 'honeydew', 'honeydew', 'grape', 'fig', 'elderberry', 'date', 'cherry', 'banana', 'honeydew']\n",
      "['honeydew', 'banana', 'baigan', 'honeydew', 'honeydew', 'honeydew', 'honeydew', 'honeydew', 'honeydew', 'honeydew', 'honeydew', 'grape', 'fig', 'elderberry', 'date', 'cherry', 'banana', 'honeydew']\n",
      "['honeydew', 'banana', 'honeydew', 'honeydew', 'honeydew', 'honeydew', 'honeydew', 'honeydew', 'honeydew', 'honeydew', 'grape', 'fig', 'elderberry', 'date', 'cherry', 'banana', 'honeydew']\n",
      "['banana', 'honeydew', 'honeydew', 'honeydew', 'honeydew', 'honeydew', 'honeydew', 'honeydew', 'honeydew', 'grape', 'fig', 'elderberry', 'date', 'cherry', 'banana', 'honeydew']\n",
      "2\n",
      "['banana', 'banana', 'cherry', 'date', 'elderberry', 'fig', 'grape', 'honeydew', 'honeydew', 'honeydew', 'honeydew', 'honeydew', 'honeydew', 'honeydew', 'honeydew', 'honeydew']\n",
      "['honeydew', 'honeydew', 'honeydew', 'honeydew', 'honeydew', 'honeydew', 'honeydew', 'honeydew', 'honeydew', 'grape', 'fig', 'elderberry', 'date', 'cherry', 'banana', 'banana']\n"
     ]
    }
   ],
   "source": [
    "fruits[1] = \"baigan\"\n",
    "print(fruits)\n",
    "fruits.append(\"honeydew\") # Add an item to the end of the list\n",
    "print(fruits)\n",
    "fruits.insert(1, \"banana\") # Insert an item at a specified index\n",
    "print(fruits)\n",
    "fruits.remove(\"baigan\") # Remove the first occurrence of a value\n",
    "print(fruits)\n",
    "fruits.pop(0) # Remove and return the last item\n",
    "print(fruits)\n",
    "print(fruits.count(\"banana\")) # Count occurrences of a value\n",
    "fruits.sort() # Sort the list in ascending order\n",
    "print(fruits)\n",
    "fruits.reverse() # Reverse the order of the list\n",
    "print(fruits)   "
   ]
  },
  {
   "cell_type": "markdown",
   "id": "b4ba3493",
   "metadata": {},
   "source": [
    "# Slicing list\n",
    "double collan means all the elements"
   ]
  },
  {
   "cell_type": "code",
   "execution_count": 53,
   "id": "ae204254",
   "metadata": {},
   "outputs": [
    {
     "name": "stdout",
     "output_type": "stream",
     "text": [
      "[3, 4, 5]\n",
      "[1, 2, 3, 4]\n",
      "[5, 6, 7, 8, 9, 10]\n",
      "[1, 3, 5, 7, 9]\n",
      "[10, 9, 8, 7, 6, 5, 4, 3, 2, 1]\n",
      "1\n",
      "1 is odd\n",
      "2\n",
      "2 is even\n",
      "3\n",
      "3 is odd\n",
      "4\n",
      "4 is even\n",
      "5\n",
      "5 is odd\n",
      "6\n",
      "6 is even\n",
      "7\n",
      "7 is odd\n",
      "8\n",
      "8 is even\n",
      "9\n",
      "9 is odd\n",
      "10\n",
      "10 is even\n"
     ]
    }
   ],
   "source": [
    "numbers = [1,2,3,4,5,6,7,8,9,10]\n",
    "print(numbers[2:5])\n",
    "print(numbers[:4])\n",
    "print(numbers[4:])\n",
    "print(numbers[::2])\n",
    "print(numbers[::-1])\n",
    "for i in numbers:\n",
    "    print(i)\n",
    "    if i % 2 == 0:\n",
    "        print(f\"{i} is even\")\n",
    "    else:\n",
    "        print(f\"{i} is odd\")"
   ]
  },
  {
   "cell_type": "markdown",
   "id": "3074e81a",
   "metadata": {},
   "source": [
    "# Iterating with index"
   ]
  },
  {
   "cell_type": "code",
   "execution_count": 54,
   "id": "6c9de82d",
   "metadata": {},
   "outputs": [
    {
     "name": "stdout",
     "output_type": "stream",
     "text": [
      "Index: 0, Number: 1\n",
      "Index: 1, Number: 2\n",
      "Index: 2, Number: 3\n",
      "Index: 3, Number: 4\n",
      "Index: 4, Number: 5\n",
      "Index: 5, Number: 6\n",
      "Index: 6, Number: 7\n",
      "Index: 7, Number: 8\n",
      "Index: 8, Number: 9\n",
      "Index: 9, Number: 10\n"
     ]
    }
   ],
   "source": [
    "for index,number in enumerate(numbers):\n",
    "    print(f\"Index: {index}, Number: {number}\")\n",
    "    "
   ]
  },
  {
   "cell_type": "markdown",
   "id": "46fbd53c",
   "metadata": {},
   "source": [
    "# List Comprehension"
   ]
  },
  {
   "cell_type": "code",
   "execution_count": 55,
   "id": "b8fe6317",
   "metadata": {},
   "outputs": [
    {
     "name": "stdout",
     "output_type": "stream",
     "text": [
      "[0, 1, 2, 3, 4, 5, 6, 7, 8, 9]\n"
     ]
    }
   ],
   "source": [
    "lst = []\n",
    "for x in range(10):\n",
    "    lst.append(x)\n",
    "print(lst)"
   ]
  },
  {
   "cell_type": "code",
   "execution_count": 56,
   "id": "f43bf314",
   "metadata": {},
   "outputs": [
    {
     "data": {
      "text/plain": [
       "[0, 1, 4, 9, 16, 25, 36, 49, 64, 81]"
      ]
     },
     "execution_count": 56,
     "metadata": {},
     "output_type": "execute_result"
    }
   ],
   "source": [
    "[x**2 for x in range(10)]  # List comprehension to create a list of squares"
   ]
  },
  {
   "cell_type": "code",
   "execution_count": 57,
   "id": "88367bd3",
   "metadata": {},
   "outputs": [
    {
     "name": "stdout",
     "output_type": "stream",
     "text": [
      "[0, 1, 4, 9, 16, 25, 36, 49, 64, 81]\n"
     ]
    }
   ],
   "source": [
    "#basic list comprehension\n",
    "squares = [x**2 for x in range(10)]\n",
    "print(squares)"
   ]
  },
  {
   "cell_type": "code",
   "execution_count": 59,
   "id": "58b466f3",
   "metadata": {},
   "outputs": [
    {
     "name": "stdout",
     "output_type": "stream",
     "text": [
      "0 is even\n",
      "1 is odd\n",
      "2 is even\n",
      "3 is odd\n",
      "4 is even\n",
      "5 is odd\n",
      "6 is even\n",
      "7 is odd\n",
      "8 is even\n",
      "9 is odd\n",
      "[0, 2, 4, 6, 8]\n"
     ]
    }
   ],
   "source": [
    "lst = []\n",
    "for i in range(10):\n",
    "    if i % 2 == 0:\n",
    "        lst.append(i)\n",
    "        print(f\"{i} is even\")\n",
    "    else:\n",
    "        print(f\"{i} is odd\")\n",
    "print(lst)"
   ]
  },
  {
   "cell_type": "code",
   "execution_count": 60,
   "id": "8d1a1321",
   "metadata": {},
   "outputs": [
    {
     "data": {
      "text/plain": [
       "[0, 2, 4, 6, 8]"
      ]
     },
     "execution_count": 60,
     "metadata": {},
     "output_type": "execute_result"
    }
   ],
   "source": [
    "[num for num in range(10) if num % 2==0]"
   ]
  },
  {
   "cell_type": "code",
   "execution_count": 61,
   "id": "075aa991",
   "metadata": {},
   "outputs": [
    {
     "name": "stdout",
     "output_type": "stream",
     "text": [
      "[[1, 'a'], [1, 'b'], [1, 'c'], [1, 'd'], [2, 'a'], [2, 'b'], [2, 'c'], [2, 'd'], [3, 'a'], [3, 'b'], [3, 'c'], [3, 'd']]\n"
     ]
    }
   ],
   "source": [
    "lst1 = [1,2,3]\n",
    "lst2 = ['a','b','c','d']\n",
    "pair = [[i, j] for i in lst1 for j in lst2]\n",
    "print(pair)\n"
   ]
  }
 ],
 "metadata": {
  "kernelspec": {
   "display_name": "Python 3",
   "language": "python",
   "name": "python3"
  },
  "language_info": {
   "codemirror_mode": {
    "name": "ipython",
    "version": 3
   },
   "file_extension": ".py",
   "mimetype": "text/x-python",
   "name": "python",
   "nbconvert_exporter": "python",
   "pygments_lexer": "ipython3",
   "version": "3.13.0"
  }
 },
 "nbformat": 4,
 "nbformat_minor": 5
}
