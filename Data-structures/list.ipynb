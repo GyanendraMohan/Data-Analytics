{
 "cells": [
  {
   "cell_type": "markdown",
   "id": "e2a3f1e7",
   "metadata": {},
   "source": [
    "# Real world use of list\n"
   ]
  },
  {
   "cell_type": "markdown",
   "id": "ecaeeea7",
   "metadata": {},
   "source": [
    "# Create a todo list to managetrack of tasks"
   ]
  },
  {
   "cell_type": "code",
   "execution_count": 2,
   "id": "cce18e1c",
   "metadata": {},
   "outputs": [
    {
     "name": "stdout",
     "output_type": "stream",
     "text": [
      "['buy groceries', 'clean the house', 'pay bills', 'schedule meeting', 'call home']\n",
      "you have to pay the bills\n"
     ]
    }
   ],
   "source": [
    "to_do_list = [\"buy groceries\", \"clean the house\", \"pay bills\"]\n",
    "\n",
    "#adding a new task\n",
    "to_do_list.append(\"schedule meeting\")\n",
    "to_do_list.append(\"call home\")\n",
    "\n",
    "print(to_do_list)\n",
    "\n",
    "# remove a task\n",
    "\n",
    "to_do_list.remove('clean the house')\n",
    "\n",
    "# check if a task is in the list or not\n",
    "if \"pay bills\" in to_do_list:\n",
    "    print(\"you have to pay the bills\")"
   ]
  },
  {
   "cell_type": "markdown",
   "id": "a8f53365",
   "metadata": {},
   "source": [
    "# Manage grades of students"
   ]
  },
  {
   "cell_type": "code",
   "execution_count": 5,
   "id": "e817d676",
   "metadata": {},
   "outputs": [
    {
     "name": "stdout",
     "output_type": "stream",
     "text": [
      "average grade is 84.17\n",
      "Highest grade is : 95\n",
      "Lowest grade is : 70\n"
     ]
    }
   ],
   "source": [
    "grades = [70,75,90,87,95,88]\n",
    "average_grade = sum(grades)/ len(grades)\n",
    "print(f'average grade is {average_grade:.2f}')\n",
    "\n",
    "highest_grade = max(grades)\n",
    "lowest_grade = min(grades)\n",
    "print(f'Highest grade is : {highest_grade}')\n",
    "print(f'Lowest grade is : {lowest_grade}')"
   ]
  },
  {
   "cell_type": "code",
   "execution_count": 7,
   "id": "dba94ca5",
   "metadata": {},
   "outputs": [
    {
     "name": "stdout",
     "output_type": "stream",
     "text": [
      "orange is in stock\n"
     ]
    }
   ],
   "source": [
    "inventory = ['applle', 'banana', 'orange']\n",
    "inventory.append('grape')\n",
    "inventory.remove('banana')\n",
    "\n",
    "item = 'orange'\n",
    "if item in inventory:\n",
    "    print(f'{item} is in stock')\n",
    "else:\n",
    "    print(f'{item} is not in stock')"
   ]
  },
  {
   "cell_type": "markdown",
   "id": "b890ef86",
   "metadata": {},
   "source": [
    "# User Feedback"
   ]
  },
  {
   "cell_type": "code",
   "execution_count": 8,
   "id": "023a62f2",
   "metadata": {},
   "outputs": [
    {
     "name": "stdout",
     "output_type": "stream",
     "text": [
      "Positive feedback count : 2\n",
      "User Feedbacks\n",
      "- Great service\n",
      "- Good quality\n",
      "- Average experience\n",
      "- Poor support\n",
      "- Excellent service\n"
     ]
    }
   ],
   "source": [
    "feedback = [ \"Great service\", \"Good quality\", \"Average experience\", \"Poor support\" ]\n",
    "feedback.append(\"Excellent service\")\n",
    "\n",
    "positive_feedback = sum(1 for comment in feedback if \"Great\" in comment or \"Excellent\" in comment)\n",
    "print(f'Positive feedback count : {positive_feedback}')\n",
    "\n",
    "print(\"User Feedbacks\")\n",
    "for comment in feedback:\n",
    "    print(f\"- {comment}\")"
   ]
  }
 ],
 "metadata": {
  "kernelspec": {
   "display_name": "Python 3",
   "language": "python",
   "name": "python3"
  },
  "language_info": {
   "codemirror_mode": {
    "name": "ipython",
    "version": 3
   },
   "file_extension": ".py",
   "mimetype": "text/x-python",
   "name": "python",
   "nbconvert_exporter": "python",
   "pygments_lexer": "ipython3",
   "version": "3.13.0"
  }
 },
 "nbformat": 4,
 "nbformat_minor": 5
}
