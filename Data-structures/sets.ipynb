{
 "cells": [
  {
   "cell_type": "markdown",
   "id": "db74dc67",
   "metadata": {},
   "source": [
    "# Sets\n",
    "Built in data type in python built to store collections of unique elements.\n",
    "Unordered\n",
    "Do not allow duplicate elements.\n",
    "Perform mathematical opration like union, intersection, difference and symmetric difference.\n",
    "\n"
   ]
  },
  {
   "cell_type": "code",
   "execution_count": 3,
   "id": "ef45964a",
   "metadata": {},
   "outputs": [
    {
     "name": "stdout",
     "output_type": "stream",
     "text": [
      "{1, 2, 3, 4, 5} <class 'set'>\n",
      "set() <class 'set'>\n"
     ]
    }
   ],
   "source": [
    "# Creation of set\n",
    "my_set = {1, 2, 3, 4, 5}\n",
    "print(my_set, type(my_set))\n",
    "\n",
    "empty_set = set()\n",
    "print(empty_set, type(empty_set))   "
   ]
  },
  {
   "cell_type": "code",
   "execution_count": 32,
   "id": "4d785331",
   "metadata": {},
   "outputs": [
    {
     "name": "stdout",
     "output_type": "stream",
     "text": [
      "15\n",
      "{1, 2, 3, 4, 5}\n"
     ]
    }
   ],
   "source": [
    "new_set = set([1,1, 2, 3, 4, 5])\n",
    "sum = 0\n",
    "for i in new_set:\n",
    "    sum += i\n",
    "print(sum)\n",
    "print(new_set)"
   ]
  },
  {
   "cell_type": "code",
   "execution_count": 34,
   "id": "d79d04fe",
   "metadata": {},
   "outputs": [
    {
     "name": "stdout",
     "output_type": "stream",
     "text": [
      "{1, 2, 3, 4, 5}\n",
      "{1, 2, 3, 4, 5}\n"
     ]
    }
   ],
   "source": [
    "new_set1 = new_set\n",
    "print(new_set1)\n",
    "union_set = new_set | new_set1\n",
    "print(union_set)"
   ]
  },
  {
   "cell_type": "code",
   "execution_count": 35,
   "id": "3166c9b4",
   "metadata": {},
   "outputs": [
    {
     "name": "stdout",
     "output_type": "stream",
     "text": [
      "True\n",
      "False\n"
     ]
    }
   ],
   "source": [
    "#Set Membersghip Testing\n",
    "test_set = {1, 2, 3, 4, 5}\n",
    "print(3 in test_set)  # Output: True\n",
    "print(6 in test_set)  # Output: False   "
   ]
  },
  {
   "cell_type": "markdown",
   "id": "40ec911d",
   "metadata": {},
   "source": [
    "# Mathemematical operation"
   ]
  },
  {
   "cell_type": "code",
   "execution_count": null,
   "id": "2ca1356a",
   "metadata": {},
   "outputs": [
    {
     "name": "stdout",
     "output_type": "stream",
     "text": [
      "Union: {1, 2, 3, 4, 5, 6}\n",
      "Intersection: {3, 4}\n",
      "Difference: {1, 2}\n",
      "Symmetric Difference: {1, 2, 5, 6}\n"
     ]
    }
   ],
   "source": [
    "set1={1, 2, 3, 4}\n",
    "set2={3, 4, 5, 6}\n",
    "union_set = set1.union(set2)\n",
    "print(\"Union:\", union_set)\n",
    "intersection_set = set1.intersection(set2)\n",
    "print(\"Intersection:\", intersection_set)\n",
    "difference_set = set1.difference(set2)\n",
    "print(\"Difference:\", difference_set)\n",
    "symmetric_difference_set = set1.symmetric_difference(set2) #common in both sets will be removed and rest will be added \n",
    "print(\"Symmetric Difference:\", symmetric_difference_set)    "
   ]
  },
  {
   "cell_type": "markdown",
   "id": "21f33496",
   "metadata": {},
   "source": [
    "# Sets Method"
   ]
  },
  {
   "cell_type": "code",
   "execution_count": 41,
   "id": "41ac6325",
   "metadata": {},
   "outputs": [
    {
     "name": "stdout",
     "output_type": "stream",
     "text": [
      "True\n",
      "True\n"
     ]
    }
   ],
   "source": [
    "set1 = {1, 2, 3, 4, 5, 6, 7}\n",
    "set2 = {1,2,3}\n",
    "\n",
    "print(set2.issubset(set1))\n",
    "print(set1.issuperset(set2))\n"
   ]
  },
  {
   "cell_type": "code",
   "execution_count": 44,
   "id": "3af4a3a3",
   "metadata": {},
   "outputs": [
    {
     "name": "stdout",
     "output_type": "stream",
     "text": [
      "['lorem', 'ipsum', 'dolor', 'sit', 'amet', 'consectetur', 'adipiscing', 'elit', 'ipsum']\n",
      "{'lorem', 'elit', 'adipiscing', 'amet', 'dolor', 'consectetur', 'sit', 'ipsum'}\n",
      "Total words: 9\n",
      "Unique words: 8\n"
     ]
    }
   ],
   "source": [
    "text = \"lorem ipsum dolor sit amet consectetur adipiscing elit ipsum\"\n",
    "words = text.split()\n",
    "print(words)\n",
    "unique_words = set(words)\n",
    "print(unique_words)\n",
    "print(f\"Total words: {len(words)}\")\n",
    "print(f\"Unique words: {len(unique_words)}\") \n"
   ]
  }
 ],
 "metadata": {
  "kernelspec": {
   "display_name": "Python 3",
   "language": "python",
   "name": "python3"
  },
  "language_info": {
   "codemirror_mode": {
    "name": "ipython",
    "version": 3
   },
   "file_extension": ".py",
   "mimetype": "text/x-python",
   "name": "python",
   "nbconvert_exporter": "python",
   "pygments_lexer": "ipython3",
   "version": "3.13.0"
  }
 },
 "nbformat": 4,
 "nbformat_minor": 5
}
