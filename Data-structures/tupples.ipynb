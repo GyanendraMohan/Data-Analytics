{
 "cells": [
  {
   "cell_type": "markdown",
   "id": "0a6c49be",
   "metadata": {},
   "source": [
    "# Tupples\n",
    "\n",
    "Ordered collection items that are immutable, similar to list but diff is immuatability."
   ]
  },
  {
   "cell_type": "code",
   "execution_count": 2,
   "id": "3c66620a",
   "metadata": {},
   "outputs": [
    {
     "name": "stdout",
     "output_type": "stream",
     "text": [
      "()\n",
      "<class 'tuple'>\n"
     ]
    }
   ],
   "source": [
    "empty_tuple = ()\n",
    "print(empty_tuple)\n",
    "print(type(empty_tuple))"
   ]
  },
  {
   "cell_type": "code",
   "execution_count": 3,
   "id": "997bc6c6",
   "metadata": {},
   "outputs": [
    {
     "name": "stdout",
     "output_type": "stream",
     "text": [
      "(1, 2, 3, 4, 5)\n",
      "<class 'tuple'>\n"
     ]
    },
    {
     "data": {
      "text/plain": [
       "[1, 2, 3, 4, 5]"
      ]
     },
     "execution_count": 3,
     "metadata": {},
     "output_type": "execute_result"
    }
   ],
   "source": [
    "numbers = tuple([1, 2, 3, 4, 5])\n",
    "print(numbers)\n",
    "print(type(numbers))\n",
    "list((1, 2, 3, 4, 5))\n"
   ]
  },
  {
   "cell_type": "code",
   "execution_count": 4,
   "id": "8325d9d4",
   "metadata": {},
   "outputs": [
    {
     "data": {
      "text/plain": [
       "(1, 2, 3, 4, 5)"
      ]
     },
     "execution_count": 4,
     "metadata": {},
     "output_type": "execute_result"
    }
   ],
   "source": [
    "numbers"
   ]
  },
  {
   "cell_type": "code",
   "execution_count": null,
   "id": "a996084b",
   "metadata": {},
   "outputs": [
    {
     "data": {
      "text/plain": [
       "(1, 2, 3, 4, 5, 1, 2, 3, 4, 5, 1, 2, 3, 4, 5)"
      ]
     },
     "execution_count": 22,
     "metadata": {},
     "output_type": "execute_result"
    }
   ],
   "source": [
    "numbers* 3 #multiplication means repetition with the same elements "
   ]
  },
  {
   "cell_type": "code",
   "execution_count": 6,
   "id": "4d40cf7e",
   "metadata": {},
   "outputs": [
    {
     "name": "stdout",
     "output_type": "stream",
     "text": [
      "(2, 3, 4)\n",
      "(5, 4, 3, 2, 1)\n",
      "(1, 2, 3, 4, 5)\n",
      "(5, 3, 1)\n",
      "(1, 3, 5)\n"
     ]
    }
   ],
   "source": [
    "print(numbers[1:4])\n",
    "print(numbers[::-1])\n",
    "print(numbers[:])\n",
    "print(numbers[::-2])\n",
    "print(numbers[::2])\n"
   ]
  },
  {
   "cell_type": "code",
   "execution_count": 14,
   "id": "711854a0",
   "metadata": {},
   "outputs": [],
   "source": [
    "mixed_tupples = (1, 2.5, \"Hello\", \"gyan\")"
   ]
  },
  {
   "cell_type": "markdown",
   "id": "691df75c",
   "metadata": {},
   "source": [
    "# Tupples operations"
   ]
  },
  {
   "cell_type": "code",
   "execution_count": 21,
   "id": "36648aa0",
   "metadata": {},
   "outputs": [
    {
     "name": "stdout",
     "output_type": "stream",
     "text": [
      "(1, 2, 3, 4, 5, 1, 2.5, 'Hello', 'gyan')\n",
      "9\n",
      "Sum of integers only: 16\n",
      "Strings only: ['Hello', 'gyan']\n"
     ]
    }
   ],
   "source": [
    "\n",
    "concatenated_tupple = numbers + mixed_tupples\n",
    "print(concatenated_tupple)\n",
    "print(len(concatenated_tupple))\n",
    "sum_of_integers = 0\n",
    "string_items = []\n",
    "for item in concatenated_tupple:\n",
    "    if isinstance(item, int): # Check if the item is an integer. isinstance() is a built-in Python function used to check if an object is of a specific type or class.\n",
    "        sum_of_integers += item\n",
    "    if isinstance(item, str):\n",
    "        string_items.append(item)\n",
    "print(\"Sum of integers only:\", sum_of_integers)\n",
    "print(\"Strings only:\", string_items)\n"
   ]
  },
  {
   "cell_type": "code",
   "execution_count": 25,
   "id": "c6efb72f",
   "metadata": {},
   "outputs": [
    {
     "name": "stdout",
     "output_type": "stream",
     "text": [
      "(1, 2, 1, 3, 1)\n"
     ]
    }
   ],
   "source": [
    "# Immutability of tuples\n",
    "t = (1, 2, 1, 3, 1)\n",
    "print(t)"
   ]
  },
  {
   "cell_type": "code",
   "execution_count": 24,
   "id": "8dd9137b",
   "metadata": {},
   "outputs": [
    {
     "ename": "TypeError",
     "evalue": "'tuple' object does not support item assignment",
     "output_type": "error",
     "traceback": [
      "\u001b[31m---------------------------------------------------------------------------\u001b[39m",
      "\u001b[31mTypeError\u001b[39m                                 Traceback (most recent call last)",
      "\u001b[36mCell\u001b[39m\u001b[36m \u001b[39m\u001b[32mIn[24]\u001b[39m\u001b[32m, line 1\u001b[39m\n\u001b[32m----> \u001b[39m\u001b[32m1\u001b[39m \u001b[43mt\u001b[49m\u001b[43m[\u001b[49m\u001b[32;43m1\u001b[39;49m\u001b[43m]\u001b[49m = \u001b[32m5\u001b[39m  \u001b[38;5;66;03m# This will raise a TypeError because tuples are immutable and do not support item assignment.\u001b[39;00m\n",
      "\u001b[31mTypeError\u001b[39m: 'tuple' object does not support item assignment"
     ]
    }
   ],
   "source": [
    "t[1] = 5  # This will raise a TypeError because tuples are immutable and do not support item assignment."
   ]
  },
  {
   "cell_type": "markdown",
   "id": "b757a4c0",
   "metadata": {},
   "source": [
    "# To make mutable convert tupple into list then change the value."
   ]
  },
  {
   "cell_type": "markdown",
   "id": "e9721ea2",
   "metadata": {},
   "source": [
    "# Tupple Method"
   ]
  },
  {
   "cell_type": "code",
   "execution_count": 34,
   "id": "c60da529",
   "metadata": {},
   "outputs": [
    {
     "name": "stdout",
     "output_type": "stream",
     "text": [
      "(1, 1, 1, 2, 3, 4, 5, 6, 7, 8, 9, 10)\n",
      "3\n",
      "6\n"
     ]
    }
   ],
   "source": [
    "tup = (1,1,1,2,3,4,5,6,7,8,9,10)\n",
    "print(tup)\n",
    "print(tup.count(1)) #count method counts the number of occurrences of a specific element in a tuple.\n",
    "print(tup.index(5)) #index method returns the index of the first occurrence of a specific element in a tuple."
   ]
  },
  {
   "cell_type": "markdown",
   "id": "3748c44d",
   "metadata": {},
   "source": [
    "# Packing and unpacking tuple"
   ]
  },
  {
   "cell_type": "code",
   "execution_count": null,
   "id": "171077f0",
   "metadata": {},
   "outputs": [
    {
     "name": "stdout",
     "output_type": "stream",
     "text": [
      "(1, 'Hello', 3.5, 4)\n"
     ]
    }
   ],
   "source": [
    "packed_tup = 1, \"Hello\", 3.5, 4 #packing\n",
    "print(packed_tup)\n"
   ]
  },
  {
   "cell_type": "code",
   "execution_count": 36,
   "id": "2cd09600",
   "metadata": {},
   "outputs": [
    {
     "name": "stdout",
     "output_type": "stream",
     "text": [
      "1\n",
      "Hello\n",
      "3.5\n",
      "4\n"
     ]
    }
   ],
   "source": [
    "a,b,c,d = packed_tup #unpacking\n",
    "print(a)\n",
    "print(b)\n",
    "print(c)\n",
    "print(d)"
   ]
  },
  {
   "cell_type": "code",
   "execution_count": null,
   "id": "45b22d37",
   "metadata": {},
   "outputs": [
    {
     "name": "stdout",
     "output_type": "stream",
     "text": [
      "1\n",
      "[2, 3, 4, 5, 6, 7, 8]\n",
      "9\n"
     ]
    }
   ],
   "source": [
    "# unpacking with asterisk operator *\n",
    "nums = (1, 2, 3, 4, 5, 6, 7, 8, 9)\n",
    "first , *middle, last = nums\n",
    "print(first)\n",
    "print(middle)\n",
    "print(last) "
   ]
  },
  {
   "cell_type": "code",
   "execution_count": 45,
   "id": "82041a8a",
   "metadata": {},
   "outputs": [
    {
     "name": "stdout",
     "output_type": "stream",
     "text": [
      "(1, 2, (3, 4), (5, 6, (7, 8)), ('a', 'b'))\n",
      "(3, 4)\n",
      "4\n",
      "7\n",
      "b\n"
     ]
    }
   ],
   "source": [
    "# Nested tuples\n",
    "nested_tup = (1, 2, (3, 4), (5, 6, (7, 8)), (\"a\", \"b\"))\n",
    "print(nested_tup)\n",
    "print(nested_tup[2])        # Output: (3, 4)\n",
    "print(nested_tup[2][1])     # Output: 4\n",
    "print(nested_tup[3][2][0])  # Output: 7   \n",
    "print(nested_tup[4][1])     # Output: b  "
   ]
  },
  {
   "cell_type": "code",
   "execution_count": 49,
   "id": "c14bbbd6",
   "metadata": {},
   "outputs": [
    {
     "name": "stdout",
     "output_type": "stream",
     "text": [
      "1 2 3 \n",
      "a b c \n",
      "True False \n"
     ]
    }
   ],
   "source": [
    "new_nested_tup = ((1,2,3),(\"a\",\"b\",\"c\"),(True, False))\n",
    "for sub_tuple in new_nested_tup:\n",
    "    for item in sub_tuple:\n",
    "        print(item, end=\" \")\n",
    "    print()"
   ]
  },
  {
   "cell_type": "markdown",
   "id": "4a23dc34",
   "metadata": {},
   "source": [
    "# Conclussion\n",
    "Tupples are versatile and usefull in various scenarios where mmutable and ordered collection of items required."
   ]
  }
 ],
 "metadata": {
  "kernelspec": {
   "display_name": "Python 3",
   "language": "python",
   "name": "python3"
  },
  "language_info": {
   "codemirror_mode": {
    "name": "ipython",
    "version": 3
   },
   "file_extension": ".py",
   "mimetype": "text/x-python",
   "name": "python",
   "nbconvert_exporter": "python",
   "pygments_lexer": "ipython3",
   "version": "3.13.0"
  }
 },
 "nbformat": 4,
 "nbformat_minor": 5
}
