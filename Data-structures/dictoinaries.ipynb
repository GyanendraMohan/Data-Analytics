{
 "cells": [
  {
   "cell_type": "markdown",
   "id": "15af6cf9",
   "metadata": {},
   "source": [
    "# Dictionaries\n",
    "\n",
    "unordered collection of data items. store data in key value pair form. key must be unique and mmutable. while value can be of any type. \n"
   ]
  },
  {
   "cell_type": "code",
   "execution_count": null,
   "id": "8f59298b",
   "metadata": {},
   "outputs": [],
   "source": []
  },
  {
   "cell_type": "code",
   "execution_count": 2,
   "id": "e7434e0b",
   "metadata": {},
   "outputs": [
    {
     "name": "stdout",
     "output_type": "stream",
     "text": [
      "{}\n",
      "<class 'dict'>\n"
     ]
    }
   ],
   "source": [
    "#creating dictionary\n",
    "empty_dict = {}\n",
    "print(empty_dict)\n",
    "print(type(empty_dict))"
   ]
  },
  {
   "cell_type": "code",
   "execution_count": 3,
   "id": "8fdde933",
   "metadata": {},
   "outputs": [
    {
     "name": "stdout",
     "output_type": "stream",
     "text": [
      "{}\n"
     ]
    }
   ],
   "source": [
    "empty_dict = dict()\n",
    "print(empty_dict)"
   ]
  },
  {
   "cell_type": "code",
   "execution_count": 4,
   "id": "2f7bb784",
   "metadata": {},
   "outputs": [
    {
     "name": "stdout",
     "output_type": "stream",
     "text": [
      "{'name': 'gyan', 'age': 32, 'grade': 24}\n",
      "<class 'dict'>\n"
     ]
    }
   ],
   "source": [
    "student = {\n",
    "    \"name\":\"gyan\",\n",
    "    \"age\": 32,\n",
    "    \"grade\":24\n",
    "}\n",
    "print(student)\n",
    "print(type(student))"
   ]
  },
  {
   "cell_type": "code",
   "execution_count": 13,
   "id": "dbb2aec9",
   "metadata": {},
   "outputs": [
    {
     "name": "stdout",
     "output_type": "stream",
     "text": [
      "A\n",
      "32\n",
      "gyan\n"
     ]
    }
   ],
   "source": [
    "student = {\n",
    "    \"name\":\"gyan\",\n",
    "    \"age\": 32,\n",
    "    \"grade\":\"A\"\n",
    "}\n",
    "\n",
    "print(student[\"grade\"])\n",
    "print(student['age'])\n",
    "\n",
    "#access the value by using the default dict method get()\n",
    "print(student.get('name'))"
   ]
  },
  {
   "cell_type": "code",
   "execution_count": 14,
   "id": "3551819a",
   "metadata": {},
   "outputs": [
    {
     "name": "stdout",
     "output_type": "stream",
     "text": [
      "{'name': 'gyan', 'age': 25, 'grade': 'A'}\n",
      "{'name': 'gyan', 'age': 25, 'grade': 'A', 'address': 'varanasi'}\n"
     ]
    }
   ],
   "source": [
    "# Modifying dict elements\n",
    "# Dict are mutable so we can add, delete or update the elements.\n",
    "student['age'] = 25\n",
    "print(student)\n",
    "student['address'] = 'varanasi'\n",
    "print(student)"
   ]
  },
  {
   "cell_type": "code",
   "execution_count": 7,
   "id": "41899561",
   "metadata": {},
   "outputs": [
    {
     "name": "stdout",
     "output_type": "stream",
     "text": [
      "{'name': 'gyan', 'age': 25, 'address': 'varanasi'}\n"
     ]
    }
   ],
   "source": [
    "del student['grade']\n",
    "print(student)"
   ]
  },
  {
   "cell_type": "markdown",
   "id": "cd7e9635",
   "metadata": {},
   "source": [
    "# Dictionaries Methods"
   ]
  },
  {
   "cell_type": "code",
   "execution_count": 8,
   "id": "ee849f16",
   "metadata": {},
   "outputs": [
    {
     "name": "stdout",
     "output_type": "stream",
     "text": [
      "dict_keys(['name', 'age', 'address'])\n",
      "dict_values(['gyan', 25, 'varanasi'])\n",
      "dict_items([('name', 'gyan'), ('age', 25), ('address', 'varanasi')])\n"
     ]
    }
   ],
   "source": [
    "keys = student.keys()\n",
    "print(keys)\n",
    "values = student.values()\n",
    "print(values)\n",
    "items = student.items()\n",
    "print(items)"
   ]
  },
  {
   "cell_type": "markdown",
   "id": "9f78baaf",
   "metadata": {},
   "source": [
    "# Shallow copy"
   ]
  },
  {
   "cell_type": "code",
   "execution_count": 9,
   "id": "0cca531c",
   "metadata": {},
   "outputs": [
    {
     "name": "stdout",
     "output_type": "stream",
     "text": [
      "{'name': 'gyan', 'age': 25, 'address': 'varanasi'}\n"
     ]
    }
   ],
   "source": [
    "student_copy = student\n",
    "print(student_copy)"
   ]
  },
  {
   "cell_type": "code",
   "execution_count": 10,
   "id": "56f0f169",
   "metadata": {},
   "outputs": [
    {
     "name": "stdout",
     "output_type": "stream",
     "text": [
      "{'name': 'mohan', 'age': 25, 'address': 'varanasi'}\n",
      "{'name': 'mohan', 'age': 25, 'address': 'varanasi'}\n"
     ]
    }
   ],
   "source": [
    "student['name'] = 'mohan'\n",
    "print(student)\n",
    "print(student_copy)"
   ]
  },
  {
   "cell_type": "code",
   "execution_count": 15,
   "id": "f3fc8ef6",
   "metadata": {},
   "outputs": [
    {
     "name": "stdout",
     "output_type": "stream",
     "text": [
      "{'name': 'gyan', 'age': 25, 'grade': 'A', 'address': 'varanasi'}\n",
      "{'name': 'gyan', 'age': 25, 'grade': 'A', 'address': 'varanasi'}\n",
      "{'name': 'Gyanendra Mohan', 'age': 25, 'grade': 'A', 'address': 'varanasi'}\n",
      "{'name': 'gyan', 'age': 25, 'grade': 'A', 'address': 'varanasi'}\n"
     ]
    }
   ],
   "source": [
    "student_copy1 = student.copy() #shallow copy allocate new memory\n",
    "print(student_copy1)\n",
    "print(student)\n",
    "student['name'] = 'Gyanendra Mohan'\n",
    "print(student)\n",
    "print(student_copy1)"
   ]
  },
  {
   "cell_type": "markdown",
   "id": "4ab789ac",
   "metadata": {},
   "source": [
    "# Iterating over dictionaries\n",
    "# use loops to iterate over dictionaries, key, value or items."
   ]
  },
  {
   "cell_type": "code",
   "execution_count": 16,
   "id": "dfb0181e",
   "metadata": {},
   "outputs": [
    {
     "name": "stdout",
     "output_type": "stream",
     "text": [
      "name\n",
      "age\n",
      "grade\n",
      "address\n",
      "Gyanendra Mohan\n",
      "25\n",
      "A\n",
      "varanasi\n"
     ]
    }
   ],
   "source": [
    "for key in student.keys():\n",
    "    print(key)\n",
    "for value in student.values():\n",
    "    print(value)"
   ]
  },
  {
   "cell_type": "code",
   "execution_count": 17,
   "id": "9030acf0",
   "metadata": {},
   "outputs": [
    {
     "name": "stdout",
     "output_type": "stream",
     "text": [
      "key is name and value is Gyanendra Mohan\n",
      "key is age and value is 25\n",
      "key is grade and value is A\n",
      "key is address and value is varanasi\n"
     ]
    }
   ],
   "source": [
    "for key, value in student.items():\n",
    "    print(f'key is {key} and value is {value}')"
   ]
  },
  {
   "cell_type": "markdown",
   "id": "f1098dcd",
   "metadata": {},
   "source": [
    "# Nested Dictionaries"
   ]
  },
  {
   "cell_type": "code",
   "execution_count": 2,
   "id": "266b3b2f",
   "metadata": {},
   "outputs": [],
   "source": [
    "students = {\n",
    "    'student1' : {\n",
    "        'name': 'Gyanendra Mohan',\n",
    "        'age': 25,\n",
    "        'grade': 'A'\n",
    "    },\n",
    "    'student2' :  {\n",
    "        'name':'Abishek',\n",
    "        'age': 24,\n",
    "        'grade': 'B',\n",
    "    },\n",
    "    'student3' : {\n",
    "        'name': 'Ankit',\n",
    "        'age': 26,\n",
    "        'grade': 'C',\n",
    "    }\n",
    "} "
   ]
  },
  {
   "cell_type": "code",
   "execution_count": 3,
   "id": "39db2b49",
   "metadata": {},
   "outputs": [
    {
     "name": "stdout",
     "output_type": "stream",
     "text": [
      "{'student1': {'name': 'Gyanendra Mohan', 'age': 25, 'grade': 'A'}, 'student2': {'name': 'Abishek', 'age': 24, 'grade': 'B'}, 'student3': {'name': 'Ankit', 'age': 26, 'grade': 'C'}}\n",
      "Abishek\n"
     ]
    }
   ],
   "source": [
    "print(students)\n",
    "print(students['student2']['name'])"
   ]
  },
  {
   "cell_type": "code",
   "execution_count": 6,
   "id": "5ff6a8e7",
   "metadata": {},
   "outputs": [
    {
     "name": "stdout",
     "output_type": "stream",
     "text": [
      "student id is student1\n",
      " name : Gyanendra Mohan\n",
      " age : 25\n",
      " grade : A\n",
      "student id is student2\n",
      " name : Abishek\n",
      " age : 24\n",
      " grade : B\n",
      "student id is student3\n",
      " name : Ankit\n",
      " age : 26\n",
      " grade : C\n"
     ]
    }
   ],
   "source": [
    "\n",
    "for student_id, student_info in students.items():\n",
    "    print(f'student id is {student_id}')\n",
    "    for key, value in student_info.items():\n",
    "        print(f' {key} : {value}')    \n"
   ]
  },
  {
   "cell_type": "markdown",
   "id": "7d7e1fdd",
   "metadata": {},
   "source": [
    "# Dictionary comprehension"
   ]
  },
  {
   "cell_type": "code",
   "execution_count": 7,
   "id": "d03d96ea",
   "metadata": {},
   "outputs": [
    {
     "name": "stdout",
     "output_type": "stream",
     "text": [
      "{1: 1, 2: 4, 3: 9, 4: 16}\n"
     ]
    }
   ],
   "source": [
    "squares = {x:x**2 for x in range(1,5)}\n",
    "print(squares)"
   ]
  },
  {
   "cell_type": "code",
   "execution_count": 8,
   "id": "52aab6c2",
   "metadata": {},
   "outputs": [
    {
     "name": "stdout",
     "output_type": "stream",
     "text": [
      "{1: 6, 2: 3, 3: 2, 4: 1, 5: 1}\n"
     ]
    }
   ],
   "source": [
    "# using cictionary count the frequency of elements in a list\n",
    "numbers = [1,2,3,4,5,1,2,3,1,2,1,1,1]\n",
    "frequency = {}\n",
    "for num in numbers:\n",
    "    if num in frequency:\n",
    "        frequency[num] += 1\n",
    "    else:\n",
    "        frequency[num] = 1\n",
    "print(frequency)"
   ]
  },
  {
   "cell_type": "code",
   "execution_count": 9,
   "id": "67050192",
   "metadata": {},
   "outputs": [
    {
     "name": "stdout",
     "output_type": "stream",
     "text": [
      "{'a': 1, 'b': 2, 'c': 3, 'd': 4}\n"
     ]
    }
   ],
   "source": [
    "# Merge two dictionaries\n",
    "dict1 = {\"a\":1, \"b\":2}\n",
    "dict2 = {\"c\":3, \"d\":4}\n",
    "merged_dict = {**dict1, **dict2}\n",
    "print(merged_dict)"
   ]
  }
 ],
 "metadata": {
  "kernelspec": {
   "display_name": "Python 3",
   "language": "python",
   "name": "python3"
  },
  "language_info": {
   "codemirror_mode": {
    "name": "ipython",
    "version": 3
   },
   "file_extension": ".py",
   "mimetype": "text/x-python",
   "name": "python",
   "nbconvert_exporter": "python",
   "pygments_lexer": "ipython3",
   "version": "3.13.0"
  }
 },
 "nbformat": 4,
 "nbformat_minor": 5
}
