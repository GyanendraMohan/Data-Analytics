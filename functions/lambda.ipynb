{
 "cells": [
  {
   "cell_type": "markdown",
   "id": "e199301f",
   "metadata": {},
   "source": [
    "# Lambda Function\n",
    "\n",
    "small anonymous function using the lambda keyword. they can have any no of argument but only one expression , they are used for short operation or s argument to higher order function."
   ]
  },
  {
   "cell_type": "code",
   "execution_count": 2,
   "id": "01f20a00",
   "metadata": {},
   "outputs": [
    {
     "data": {
      "text/plain": [
       "5"
      ]
     },
     "execution_count": 2,
     "metadata": {},
     "output_type": "execute_result"
    }
   ],
   "source": [
    "addition = lambda a,b: a+b\n",
    "addition(2,3)\n"
   ]
  },
  {
   "cell_type": "code",
   "execution_count": 4,
   "id": "296a537c",
   "metadata": {},
   "outputs": [
    {
     "data": {
      "text/plain": [
       "True"
      ]
     },
     "execution_count": 4,
     "metadata": {},
     "output_type": "execute_result"
    }
   ],
   "source": [
    "even = lambda num: num%2==0\n",
    "even(5)\n",
    "even(6)"
   ]
  }
 ],
 "metadata": {
  "kernelspec": {
   "display_name": "Python 3",
   "language": "python",
   "name": "python3"
  },
  "language_info": {
   "codemirror_mode": {
    "name": "ipython",
    "version": 3
   },
   "file_extension": ".py",
   "mimetype": "text/x-python",
   "name": "python",
   "nbconvert_exporter": "python",
   "pygments_lexer": "ipython3",
   "version": "3.13.0"
  }
 },
 "nbformat": 4,
 "nbformat_minor": 5
}
