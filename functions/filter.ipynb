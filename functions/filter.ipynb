{
 "cells": [
  {
   "cell_type": "markdown",
   "id": "af1a4f12",
   "metadata": {},
   "source": [
    "# Filter() function : \n",
    "    constructs an iterator from elements of an iterable for which function return true. It is used to filter it items from a list(or any iterable) based on the condition."
   ]
  },
  {
   "cell_type": "code",
   "execution_count": 2,
   "id": "3b826df2",
   "metadata": {},
   "outputs": [
    {
     "name": "stdout",
     "output_type": "stream",
     "text": [
      "[2, 4, 6, 8, 10]\n"
     ]
    }
   ],
   "source": [
    "def even(num):\n",
    "    return num%2==0\n",
    "\n",
    "lst = [1,2,3,4,5,6,7,8,9,10]\n",
    "\n",
    "even_list = list(filter(even , lst))\n",
    "print(even_list)"
   ]
  },
  {
   "cell_type": "code",
   "execution_count": 3,
   "id": "25d1ef46",
   "metadata": {},
   "outputs": [
    {
     "name": "stdout",
     "output_type": "stream",
     "text": [
      "[6, 7, 8, 9]\n"
     ]
    }
   ],
   "source": [
    "numbers = [1,2,3,4,5,6,7,8,9]\n",
    "num_greater_then_five = list(filter(lambda x: x>5 , numbers))\n",
    "print(num_greater_then_five)"
   ]
  },
  {
   "cell_type": "code",
   "execution_count": 4,
   "id": "7ab401a3",
   "metadata": {},
   "outputs": [
    {
     "data": {
      "text/plain": [
       "[6, 8]"
      ]
     },
     "execution_count": 4,
     "metadata": {},
     "output_type": "execute_result"
    }
   ],
   "source": [
    "nums = [1,2,3,4,5,6,7,8,9]\n",
    "list(filter(lambda x: x>5 and x%2==0, numbers))"
   ]
  },
  {
   "cell_type": "code",
   "execution_count": 7,
   "id": "fdb3c9f5",
   "metadata": {},
   "outputs": [
    {
     "data": {
      "text/plain": [
       "[{'name': 'Bob', 'address': '202 Second Ave', 'age': 30},\n",
       " {'name': 'Charlie', 'address': '303 Third Blvd', 'age': 32}]"
      ]
     },
     "execution_count": 7,
     "metadata": {},
     "output_type": "execute_result"
    }
   ],
   "source": [
    "people = [\n",
    "    {\"name\": \"Alice\", \"address\": \"101 First St\", \"age\": 25},\n",
    "    {\"name\": \"Bob\", \"address\": \"202 Second Ave\", \"age\": 30},\n",
    "    {\"name\": \"Charlie\", \"address\": \"303 Third Blvd\", \"age\": 32}\n",
    "]\n",
    "\n",
    "def age_gret_then_25(people):\n",
    "    return people[\"age\"] > 25\n",
    "list(filter(age_gret_then_25, people))"
   ]
  }
 ],
 "metadata": {
  "kernelspec": {
   "display_name": "Python 3",
   "language": "python",
   "name": "python3"
  },
  "language_info": {
   "codemirror_mode": {
    "name": "ipython",
    "version": 3
   },
   "file_extension": ".py",
   "mimetype": "text/x-python",
   "name": "python",
   "nbconvert_exporter": "python",
   "pygments_lexer": "ipython3",
   "version": "3.13.0"
  }
 },
 "nbformat": 4,
 "nbformat_minor": 5
}
