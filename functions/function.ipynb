{
 "cells": [
  {
   "cell_type": "code",
   "execution_count": 2,
   "id": "e15c5256",
   "metadata": {},
   "outputs": [
    {
     "name": "stdout",
     "output_type": "stream",
     "text": [
      "5 is odd number\n",
      "4 is even number\n"
     ]
    }
   ],
   "source": [
    "def even_or_odd(num):\n",
    "    if num == 0:\n",
    "        return\n",
    "    if num % 2 == 0 :\n",
    "        print(f'{num} is even number')\n",
    "    else :\n",
    "        print(f'{num} is odd number')\n",
    "even_or_odd(5)\n",
    "even_or_odd(4)"
   ]
  },
  {
   "cell_type": "code",
   "execution_count": null,
   "id": "f891e267",
   "metadata": {},
   "outputs": [],
   "source": [
    "# Variable length arguments\n",
    "# Positional and keywords arguments "
   ]
  },
  {
   "cell_type": "code",
   "execution_count": null,
   "id": "f6e0de29",
   "metadata": {},
   "outputs": [
    {
     "name": "stdout",
     "output_type": "stream",
     "text": [
      "1\n",
      "2\n",
      "3\n",
      "4\n",
      "5\n",
      "gyan\n",
      "True\n"
     ]
    }
   ],
   "source": [
    "def print_numbers(*args): #positional arguments\n",
    "    for num in args:\n",
    "        print(num)\n",
    "print_numbers(1,2,3,4,5,\"gyan\", True)\n",
    "    "
   ]
  },
  {
   "cell_type": "code",
   "execution_count": 2,
   "id": "cb1d9593",
   "metadata": {},
   "outputs": [
    {
     "name": "stdout",
     "output_type": "stream",
     "text": [
      "name: Gyan\n",
      "age: 24\n",
      "city: Indore\n",
      "name: abhi\n"
     ]
    }
   ],
   "source": [
    "# keyword arguments\n",
    "\n",
    "def print_info(**kwargs):\n",
    "    for key, value in kwargs.items():\n",
    "        print(f\"{key}: {value}\")\n",
    "        \n",
    "print_info(name=\"Gyan\", age=24, city=\"Indore\")\n",
    "print_info(name=\"abhi\")"
   ]
  },
  {
   "cell_type": "code",
   "execution_count": 4,
   "id": "72341f75",
   "metadata": {},
   "outputs": [
    {
     "name": "stdout",
     "output_type": "stream",
     "text": [
      "77.0\n",
      "25.0\n"
     ]
    }
   ],
   "source": [
    "# tempearture conversion\n",
    "\n",
    "def convert_temp(temp , unit):\n",
    "    if unit == 'C':\n",
    "        return temp*9/5+32\n",
    "    elif unit == \"F\":\n",
    "        return (temp-32)*5/9\n",
    "    else:\n",
    "        return None\n",
    "print(convert_temp(25, 'C'))\n",
    "print(convert_temp(77 , 'F'))"
   ]
  },
  {
   "cell_type": "code",
   "execution_count": 6,
   "id": "ecdc9dcf",
   "metadata": {},
   "outputs": [
    {
     "name": "stdout",
     "output_type": "stream",
     "text": [
      "True\n"
     ]
    }
   ],
   "source": [
    "# Password strength checker\n",
    "\n",
    "def is_strong_password(passowrd):\n",
    "    if len(passowrd) < 8:\n",
    "        return False\n",
    "    if not any(char.isdigit() for char in passowrd):\n",
    "        return False\n",
    "    if not any(char.islower() for char in passowrd):\n",
    "        return False\n",
    "    if not any(char.isupper() for char in passowrd):\n",
    "        return False\n",
    "    if not any(char in '!@#$%&*_+()' for char in passowrd):\n",
    "        return False\n",
    "    return True\n",
    "print(is_strong_password('A@1sfafd'))"
   ]
  },
  {
   "cell_type": "code",
   "execution_count": 12,
   "id": "25aea9de",
   "metadata": {},
   "outputs": [
    {
     "data": {
      "text/plain": [
       "160"
      ]
     },
     "execution_count": 12,
     "metadata": {},
     "output_type": "execute_result"
    }
   ],
   "source": [
    "\n",
    "def calculate_total_cost(cart):\n",
    "    total_cost = 0\n",
    "    \n",
    "    for item in cart:\n",
    "        total_cost += item['price']*item['quantity']\n",
    "    return total_cost\n",
    "\n",
    "cart = [\n",
    "    {\"item\": \"apple\", \"price\": 30, \"quantity\": 2},\n",
    "    {\"item\": \"banana\", \"price\": 10, \"quantity\": 5},\n",
    "    {\"item\": \"milk\", \"price\": 50, \"quantity\": 1}\n",
    "]\n",
    "\n",
    "calculate_total_cost(cart)"
   ]
  },
  {
   "cell_type": "code",
   "execution_count": 14,
   "id": "ade9fa47",
   "metadata": {},
   "outputs": [
    {
     "name": "stdout",
     "output_type": "stream",
     "text": [
      "False\n",
      "False\n",
      "True\n"
     ]
    }
   ],
   "source": [
    "# Palindrome\n",
    "\n",
    "def is_palindrome(str):\n",
    "    str = str.lower().replace(\" \",\"\")\n",
    "    return str == str[::-1]\n",
    "\n",
    "print(is_palindrome(\"panama\"))\n",
    "print(is_palindrome(\"aman\"))\n",
    "print(is_palindrome(\"malayalam\"))\n",
    "    \n"
   ]
  },
  {
   "cell_type": "code",
   "execution_count": 17,
   "id": "dd9ebc08",
   "metadata": {},
   "outputs": [
    {
     "data": {
      "text/plain": [
       "120"
      ]
     },
     "execution_count": 17,
     "metadata": {},
     "output_type": "execute_result"
    }
   ],
   "source": [
    "# Factorial of a number\n",
    "\n",
    "def fact(n):\n",
    "    if n == 0 :\n",
    "        return 1\n",
    "    return n * fact(n-1)\n",
    "\n",
    "fact(5)"
   ]
  },
  {
   "cell_type": "code",
   "execution_count": 20,
   "id": "10de34e9",
   "metadata": {},
   "outputs": [
    {
     "name": "stdout",
     "output_type": "stream",
     "text": [
      "{'python': 1, 'is': 1, 'a': 1, 'powerful': 1, 'programming': 1, 'language': 1, 'for': 2, 'data': 2, 'machine': 1, 'learning': 1, 'helps': 1, 'computers': 1, 'learn': 1, 'from': 1, 'experience': 1, 'visualization': 1, 'makes': 1, 'complex': 1, 'easy': 1, 'to': 1, 'understand': 1, 'analytics': 1, 'provides': 1, 'insights': 1, 'better': 1, 'decisions': 1}\n"
     ]
    }
   ],
   "source": [
    "# Read a file and count the freq of words\n",
    "\n",
    "def count_word_freq(path):\n",
    "    word_count = {}\n",
    "    with open(path, 'r') as file:\n",
    "        for line in file:\n",
    "            words = line.split()\n",
    "            for word in words:\n",
    "                word = word.lower().strip('.,!?;:\"\\'')\n",
    "                word_count[word] = word_count.get(word,0)+1\n",
    "    return word_count\n",
    "\n",
    "path = '/Users/gyanendramohanpatel/Desktop/Data Analytics/functions/sample.txt'\n",
    "print(count_word_freq(path))\n"
   ]
  }
 ],
 "metadata": {
  "kernelspec": {
   "display_name": "Python 3",
   "language": "python",
   "name": "python3"
  },
  "language_info": {
   "codemirror_mode": {
    "name": "ipython",
    "version": 3
   },
   "file_extension": ".py",
   "mimetype": "text/x-python",
   "name": "python",
   "nbconvert_exporter": "python",
   "pygments_lexer": "ipython3",
   "version": "3.13.0"
  }
 },
 "nbformat": 4,
 "nbformat_minor": 5
}
