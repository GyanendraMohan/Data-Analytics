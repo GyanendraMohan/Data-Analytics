{
 "cells": [
  {
   "cell_type": "markdown",
   "id": "5a62a30b",
   "metadata": {},
   "source": [
    "# Exceptions are the events that disrupts the normal flow of the program."
   ]
  }
 ],
 "metadata": {
  "kernelspec": {
   "display_name": "Python 3",
   "language": "python",
   "name": "python3"
  },
  "language_info": {
   "name": "python",
   "version": "3.13.0"
  }
 },
 "nbformat": 4,
 "nbformat_minor": 5
}
